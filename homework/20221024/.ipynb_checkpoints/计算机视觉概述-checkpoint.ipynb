{
 "cells": [
  {
   "cell_type": "markdown",
   "metadata": {},
   "source": [
    "参考资料：\n",
    "\n",
    "https://www.ted.com/talks/fei_fei_li_how_we_re_teaching_computers_to_understand_pictures?subtitle=zh-cn\n",
    "\n",
    "https://blog.csdn.net/mengxianglong123/article/details/125402042\n",
    "\n",
    "https://zhuanlan.zhihu.com/p/548649402\n",
    "\n",
    "https://zhuanlan.zhihu.com/p/446454324\n"
   ]
  },
  {
   "cell_type": "markdown",
   "metadata": {},
   "source": [
    "**定义：**\n",
    "\n",
    "计算机 理解 图像(视频)\n",
    "\n",
    "**基础:**\n",
    "\n",
    "分类， 检测， 分割, 生成*\n",
    "\n",
    "![example](classification.png)\n",
    "\n",
    "**分类：**\n",
    "     类别信息(离散值)\n",
    "     \n",
    "**目标检测：**\n",
    "     分类+框位置(多目标)\n",
    "     \n",
    "**分割:**\n",
    "     像素级分类\n",
    "(语义分割，实例分割，全景分割)     \n",
    " \n",
    "**生成:**\n",
    "     生成图片\n",
    "     \n",
    "![detection](detection.png)"
   ]
  },
  {
   "cell_type": "code",
   "execution_count": null,
   "metadata": {},
   "outputs": [],
   "source": [
    "目标检测和目标跟踪\n",
    "\n",
    "https://zhuanlan.zhihu.com/p/32826719\n",
    "\n",
    "https://www.bilibili.com/video/BV1kL4y1J74g/?spm_id_from=333.337.search-card.all.click&vd_source=f6d0c2758eea1e5f479321dd82fa5df8"
   ]
  }
 ],
 "metadata": {
  "kernelspec": {
   "display_name": "Python 3",
   "language": "python",
   "name": "python3"
  },
  "language_info": {
   "codemirror_mode": {
    "name": "ipython",
    "version": 3
   },
   "file_extension": ".py",
   "mimetype": "text/x-python",
   "name": "python",
   "nbconvert_exporter": "python",
   "pygments_lexer": "ipython3",
   "version": "3.8.5"
  }
 },
 "nbformat": 4,
 "nbformat_minor": 4
}
